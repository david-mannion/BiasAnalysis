{
 "cells": [
  {
   "cell_type": "markdown",
   "metadata": {},
   "source": [
    "### 1. Rectifying Bias - cross validation\n",
    "In the first assignment the impact of the strategies to reduce bias was assessed using\n",
    "hold-out testing. The results from this assessment were unstable because of the size of the\n",
    "training data - different train-test splits produce different results. Repeat this assessment\n",
    "using pipelines and cross validation."
   ]
  },
  {
   "cell_type": "markdown",
   "metadata": {},
   "source": [
    "#### 1. From your first assignment submission, show the hold-out evaluation of the impact of your bias reduction strategy (just one strategy). This will serve as a base-line."
   ]
  },
  {
   "cell_type": "code",
   "execution_count": 1,
   "metadata": {},
   "outputs": [],
   "source": [
    "import pandas as pd\n",
    "import numpy as np"
   ]
  },
  {
   "cell_type": "code",
   "execution_count": 2,
   "metadata": {},
   "outputs": [],
   "source": [
    "from imblearn.over_sampling import SMOTE, RandomOverSampler, ADASYN\n",
    "from collections import Counter\n",
    "\n",
    "surv = pd.read_csv('survival.csv')\n",
    "surv['Survived'] = 'GE5'\n",
    "surv.loc[surv['Class']==2,'Survived']='L5'\n",
    "\n",
    "min_class = Counter(surv['Survived']).most_common()[-1][0]\n",
    "#surv['Die'] = np.where(surv['Survived'] == min_class , 1 , 0)\n",
    "\n",
    "#surv.pop('Survived')\n",
    "surv.pop('Class')\n",
    "\n",
    "y = surv.pop('Survived').values\n",
    "X = surv.values"
   ]
  },
  {
   "cell_type": "markdown",
   "metadata": {},
   "source": [
    "Loading the dataset and assinging values to the X and y variables"
   ]
  },
  {
   "cell_type": "code",
   "execution_count": 3,
   "metadata": {},
   "outputs": [],
   "source": [
    "from sklearn.model_selection import train_test_split\n",
    "#X_train, X_test, y_train, y_test = train_test_split(X,y,test_size = 1/5)\n",
    "\n",
    "#sm = SMOTE(sampling_strategy = 1.0)\n",
    "#X_train_sm, y_train_sm = sm.fit_sample(X_train,y_train)\n",
    "\n",
    "#len(y_train), len(y_train_sm)\n"
   ]
  },
  {
   "cell_type": "code",
   "execution_count": 4,
   "metadata": {},
   "outputs": [],
   "source": [
    "from sklearn.neighbors import KNeighborsClassifier\n",
    "from sklearn.svm import SVC\n",
    "from sklearn.tree import DecisionTreeClassifier\n",
    "from sklearn.naive_bayes import MultinomialNB, GaussianNB, BernoulliNB\n",
    "from sklearn.linear_model import LogisticRegression\n",
    "from sklearn.ensemble import GradientBoostingClassifier\n",
    "from xgboost import XGBClassifier\n"
   ]
  },
  {
   "cell_type": "markdown",
   "metadata": {},
   "source": [
    "Loading in the classifier classes "
   ]
  },
  {
   "cell_type": "code",
   "execution_count": 5,
   "metadata": {},
   "outputs": [],
   "source": [
    "kNN = KNeighborsClassifier(n_neighbors=3)\n",
    "svm = SVC(kernel = 'linear', C = 1)\n",
    "dtree = DecisionTreeClassifier(criterion='entropy')\n",
    "mnb = GaussianNB()\n",
    "lreg = LogisticRegression(solver = 'lbfgs')\n",
    "boost = GradientBoostingClassifier()\n",
    "xgb = XGBClassifier()\n",
    "\n",
    "models = (kNN,dtree,mnb,svm,lreg,boost,xgb)\n",
    "\n"
   ]
  },
  {
   "cell_type": "code",
   "execution_count": 6,
   "metadata": {},
   "outputs": [],
   "source": [
    "def bias(y_test,y_pred):\n",
    "    min_class = Counter(y_test).most_common()[-1][0]\n",
    "    return Counter(y_pred)[min_class]/Counter(y_test)[min_class] \n"
   ]
  },
  {
   "cell_type": "markdown",
   "metadata": {},
   "source": [
    "Bias can be measured in a few different ways.\n",
    "For my analysis I will mainly use \n",
    "(count of minority class in predicted data)/(count of minority class in test data)"
   ]
  },
  {
   "cell_type": "code",
   "execution_count": 7,
   "metadata": {},
   "outputs": [],
   "source": [
    "from sklearn.metrics import accuracy_score\n",
    "sm = SMOTE(sampling_strategy = 1.0)\n",
    "\n",
    "def simulate(num_sims,models, X , y ,smote = False, metric = 'accuracy'):\n",
    "    \n",
    "    if metric == 'accuracy':\n",
    "        scorer = accuracy_score\n",
    "    elif metric == 'bias':\n",
    "        scorer = bias\n",
    "    else:\n",
    "        print('Error')\n",
    "    vals = np.zeros((num_sims, len(models)))\n",
    "    \n",
    "    for i in range(num_sims):\n",
    "        X_train, X_test, y_train, y_test = train_test_split(X,y,test_size = 1/5,shuffle = True)\n",
    "        if smote == True:\n",
    "            X_train, y_train = sm.fit_sample(X_train,y_train)\n",
    "        j = 0\n",
    "        for model in models:\n",
    "            y_pred = model.fit(X_train,y_train).predict(X_test)\n",
    "            vals[i,j] = scorer(y_test,y_pred)\n",
    "            j += 1\n",
    "            \n",
    "    store = pd.DataFrame(index = ['Mean','St Dev'], columns = [type(m).__name__ for m in models])\n",
    "    store.loc['Mean',:] = np.mean(vals,axis = 0)\n",
    "    store.loc['St Dev',:] = np.std(vals,axis = 0)\n",
    "    store.sort_values(by = 'Mean', axis = 1, ascending = False, inplace = True)\n",
    "    \n",
    "    return store\n",
    "    \n",
    "    "
   ]
  },
  {
   "cell_type": "markdown",
   "metadata": {},
   "source": [
    "The simulate function outputs a Pandas dataframe with the mean and standard deviation for each classifier.\n",
    "\n",
    "You can specifiy the number of simulations you want to run with the num_sims parameter.\n",
    "The higher this number, the closer to the true mean and standard deviation the outputed values will be, but the more expensive(time consuming) the process will be.\n",
    "\n",
    "The function is based on hold out testing. \n",
    "\n",
    "The smote parameter determines whether to apply SMOTE (when smote = True) or not. \n",
    "By default it is set to False.\n",
    "\n",
    "The metric parameter determines whether to calculate 'accuracy' or bias scores.\n",
    "Bias is calculated using the user defined function bias defined earlier in this notebook.\n"
   ]
  },
  {
   "cell_type": "code",
   "execution_count": 8,
   "metadata": {},
   "outputs": [
    {
     "name": "stdout",
     "output_type": "stream",
     "text": [
      "Accuracy, no SMOTE, hold-out testing\n",
      "       GaussianNB LogisticRegression        SVC KNeighborsClassifier  \\\n",
      "Mean     0.756935            0.75371   0.736935             0.711935   \n",
      "St Dev  0.0481313          0.0487009  0.0455453             0.052859   \n",
      "\n",
      "       GradientBoostingClassifier XGBClassifier DecisionTreeClassifier  \n",
      "Mean                     0.707419      0.677903               0.663226  \n",
      "St Dev                  0.0545066     0.0548128              0.0521285  \n"
     ]
    },
    {
     "data": {
      "image/png": "[encoded data removed]",
      "text/plain": [
       "<Figure size 432x288 with 1 Axes>"
      ]
     },
     "metadata": {
      "needs_background": "light"
     },
     "output_type": "display_data"
    }
   ],
   "source": [
    "import matplotlib.pyplot as plt\n",
    "acc_ = simulate(100,models,X,y)\n",
    "def table_and_plot(df,title):\n",
    "    print(title)\n",
    "    print(df)\n",
    "    df.plot(kind = 'bar')\n",
    "    plt.title(title)\n",
    "    plt.ylabel('Score')\n",
    "    plt.show()\n",
    "    \n",
    "table_and_plot(acc_,'Accuracy, no SMOTE, hold-out testing')\n",
    "    "
   ]
  },
  {
   "cell_type": "code",
   "execution_count": 9,
   "metadata": {},
   "outputs": [
    {
     "name": "stdout",
     "output_type": "stream",
     "text": [
      "Bias, no SMOTE, hold-out testing\n",
      "       DecisionTreeClassifier XGBClassifier KNeighborsClassifier  \\\n",
      "Mean                  1.02855      0.913902             0.731903   \n",
      "St Dev               0.358013      0.312963             0.283506   \n",
      "\n",
      "       GradientBoostingClassifier GaussianNB LogisticRegression       SVC  \n",
      "Mean                     0.717598   0.358977           0.270992  0.115894  \n",
      "St Dev                   0.263311   0.182441           0.157106  0.191936  \n"
     ]
    },
    {
     "data": {
      "image/png": "[encoded data removed]",
      "text/plain": [
       "<Figure size 432x288 with 1 Axes>"
      ]
     },
     "metadata": {
      "needs_background": "light"
     },
     "output_type": "display_data"
    }
   ],
   "source": [
    "bias_ = simulate(100,models,X,y,metric = 'bias')\n",
    "table_and_plot(bias_,'Bias, no SMOTE, hold-out testing')"
   ]
  },
  {
   "cell_type": "code",
   "execution_count": 10,
   "metadata": {},
   "outputs": [
    {
     "name": "stdout",
     "output_type": "stream",
     "text": [
      "Accuracy,SMOTE, hold-out testing\n",
      "       GaussianNB        SVC LogisticRegression DecisionTreeClassifier  \\\n",
      "Mean     0.740806   0.734677           0.709355               0.634032   \n",
      "St Dev  0.0553701  0.0481918          0.0555916               0.055905   \n",
      "\n",
      "       GradientBoostingClassifier KNeighborsClassifier XGBClassifier  \n",
      "Mean                      0.63129             0.630484      0.630161  \n",
      "St Dev                   0.044641            0.0501867     0.0509154  \n"
     ]
    },
    {
     "data": {
      "image/png": "[encoded data removed]",
      "text/plain": [
       "<Figure size 432x288 with 1 Axes>"
      ]
     },
     "metadata": {
      "needs_background": "light"
     },
     "output_type": "display_data"
    }
   ],
   "source": [
    "acc_smote = simulate(100,models,X,y,smote = True)\n",
    "table_and_plot(acc_smote,'Accuracy,SMOTE, hold-out testing')"
   ]
  },
  {
   "cell_type": "code",
   "execution_count": 11,
   "metadata": {},
   "outputs": [
    {
     "name": "stdout",
     "output_type": "stream",
     "text": [
      "Bias,SMOTE, hold-out testing\n",
      "       KNeighborsClassifier GradientBoostingClassifier XGBClassifier  \\\n",
      "Mean                1.39219                    1.31118       1.24698   \n",
      "St Dev             0.408459                   0.374284      0.375495   \n",
      "\n",
      "       DecisionTreeClassifier LogisticRegression       SVC GaussianNB  \n",
      "Mean                  1.24095            1.10225  0.774163   0.675245  \n",
      "St Dev               0.369877           0.311866  0.245258   0.220398  \n"
     ]
    },
    {
     "data": {
      "image/png": "[encoded data removed]",
      "text/plain": [
       "<Figure size 432x288 with 1 Axes>"
      ]
     },
     "metadata": {
      "needs_background": "light"
     },
     "output_type": "display_data"
    }
   ],
   "source": [
    "bias_smote = simulate(100,models,X,y,smote = True, metric = 'bias')\n",
    "table_and_plot(bias_smote,'Bias,SMOTE, hold-out testing')"
   ]
  },
  {
   "cell_type": "code",
   "execution_count": 12,
   "metadata": {},
   "outputs": [
    {
     "data": {
      "text/plain": [
       "Mean     -0.042465\n",
       "St Dev    0.000588\n",
       "dtype: float64"
      ]
     },
     "execution_count": 12,
     "metadata": {},
     "output_type": "execute_result"
    }
   ],
   "source": [
    "np.mean(acc_smote - acc_ , axis = 1)"
   ]
  },
  {
   "cell_type": "markdown",
   "metadata": {},
   "source": [
    "We can see that using SMOTE reduces accuracy by ~ 3% on average across the classifiers.\n",
    "The very small average change of ~ 0.1% in St Deviation of the accuracy estimates shows SMOTE  has neglible effect on the stability of these scores for hold out testing."
   ]
  },
  {
   "cell_type": "code",
   "execution_count": 13,
   "metadata": {},
   "outputs": [
    {
     "data": {
      "text/plain": [
       "Mean      0.51502\n",
       "St Dev    0.07948\n",
       "dtype: float64"
      ]
     },
     "execution_count": 13,
     "metadata": {},
     "output_type": "execute_result"
    }
   ],
   "source": [
    "np.mean(bias_smote - bias_ , axis = 1)"
   ]
  },
  {
   "cell_type": "markdown",
   "metadata": {},
   "source": [
    "We can see that as a result of SMOTE, the Minority class is now almost over predicted due to the bias \n",
    "Values being > 1. We can also see that the Standard deviation of these bias values are quite high at ~6%, meaning there is high variation in the bias between runs for the classifiers.\n",
    "\n",
    "We see the average bias across the classifiers has increased by 51 percentage points.\n"
   ]
  },
  {
   "cell_type": "markdown",
   "metadata": {},
   "source": [
    "#### 2. Use a Pipeline to repeat this evaluation using cross validation."
   ]
  },
  {
   "cell_type": "code",
   "execution_count": 14,
   "metadata": {},
   "outputs": [],
   "source": [
    "from imblearn.pipeline import Pipeline\n",
    "from sklearn.model_selection import KFold\n",
    "from sklearn.model_selection import cross_validate\n",
    "from sklearn.model_selection import cross_val_score\n",
    "from sklearn.metrics import make_scorer\n",
    "\n"
   ]
  },
  {
   "cell_type": "code",
   "execution_count": 15,
   "metadata": {},
   "outputs": [],
   "source": [
    "def simulate_cross_val(num_sims,models, X , y ,smote = False,metric = 'accuracy'):\n",
    "    \n",
    "    acc = np.zeros((num_sims, len(models)))\n",
    "    bias_scores = np.zeros((num_sims, len(models)))\n",
    "    \n",
    "    if smote == False:\n",
    "        sm = 'passthrough'\n",
    "    else:\n",
    "        sm  = SMOTE(sampling_strategy = 1.0)\n",
    "    \n",
    "    scoring = {'accuracy':'accuracy' , 'bias' : make_scorer(bias)}\n",
    "    cv = KFold(n_splits = 10, shuffle = True)\n",
    "    \n",
    "    for i in range(num_sims):\n",
    "        j = 0\n",
    "        for model in models:\n",
    "            model_pipe = Pipeline(steps = [\n",
    "                ('sampling',sm),\n",
    "                ('classifier',model)\n",
    "            ])\n",
    "            \n",
    "            scores = cross_validate(model_pipe,X,y,scoring = scoring , cv = cv)\n",
    "            acc[i,j] = np.mean(scores['test_accuracy'])\n",
    "            bias_scores[i,j] = np.mean(scores['test_bias'])\n",
    "            \n",
    "            j += 1\n",
    "            \n",
    "    if metric == 'accuracy':\n",
    "        vals = acc\n",
    "    elif metric == 'bias':\n",
    "        vals = bias_scores\n",
    "    else:\n",
    "        pass\n",
    "    \n",
    "    store = pd.DataFrame(index = ['Mean','St Dev'], columns = [type(m).__name__ for m in models])\n",
    "    store.loc['Mean',:] = np.mean(vals,axis = 0)\n",
    "    store.loc['St Dev',:] = np.std(vals,axis = 0)\n",
    "    store.sort_values(by = 'Mean', axis = 1, ascending = False, inplace = True)\n",
    "    \n",
    "    return store"
   ]
  },
  {
   "cell_type": "markdown",
   "metadata": {},
   "source": [
    "The simulate_cross_val function outputs the same Pandas dataframe as the simulate function.\n",
    "The difference being that the simulate_cross_val function uses a pipeline(for the SMOTE transformation) and cross validation.\n",
    "\n",
    "The pipeline enables us to use cross validation instead of hold out testing. \n"
   ]
  },
  {
   "cell_type": "code",
   "execution_count": 16,
   "metadata": {},
   "outputs": [
    {
     "name": "stdout",
     "output_type": "stream",
     "text": [
      "Accuracy, no SMOTE, Cross Val\n",
      "       GaussianNB         SVC LogisticRegression GradientBoostingClassifier  \\\n",
      "Mean     0.742014    0.734141           0.715148                    0.63182   \n",
      "St Dev  0.0073073  0.00791152          0.0112168                  0.0166571   \n",
      "\n",
      "       KNeighborsClassifier DecisionTreeClassifier XGBClassifier  \n",
      "Mean               0.631491               0.622657      0.619373  \n",
      "St Dev            0.0160985              0.0204645     0.0182607  \n"
     ]
    },
    {
     "data": {
      "image/png": "[encoded data removed]",
      "text/plain": [
       "<Figure size 432x288 with 1 Axes>"
      ]
     },
     "metadata": {
      "needs_background": "light"
     },
     "output_type": "display_data"
    }
   ],
   "source": [
    "cross_val_acc_smote = simulate_cross_val(100,models,X,y,smote = True,metric = 'accuracy')\n",
    "table_and_plot(cross_val_acc_smote,'Accuracy, no SMOTE, Cross Val')"
   ]
  },
  {
   "cell_type": "code",
   "execution_count": 17,
   "metadata": {},
   "outputs": [
    {
     "data": {
      "text/plain": [
       "Mean     -0.002023\n",
       "St Dev   -0.037555\n",
       "dtype: float64"
      ]
     },
     "execution_count": 17,
     "metadata": {},
     "output_type": "execute_result"
    }
   ],
   "source": [
    "np.mean(cross_val_acc_smote - acc_smote,axis = 1)"
   ]
  },
  {
   "cell_type": "markdown",
   "metadata": {},
   "source": [
    "#### 3. Comment on the differences between the two evaluations. You may choose to run both evaluations multiple times to show the differences."
   ]
  },
  {
   "cell_type": "markdown",
   "metadata": {},
   "source": [
    "#### Accuracy"
   ]
  },
  {
   "cell_type": "markdown",
   "metadata": {},
   "source": [
    "We can see from the results of the code above that the Cross validation method provides greater\n",
    "stability in the accuracy estimates than the hold out testing.\n",
    "\n",
    "The average difference in standard deviation for the classifier accuracy is ~3%, with the \n",
    "cross val st deviations being the lower. \n",
    "\n",
    "This shows that cross fold validation provides better(more stable in this case) classifiers\n",
    "\n",
    "Theoretically, cross validation should give more stable estimates for accuracy scores and bias scores \n",
    "than hold out testing. \n",
    "\n",
    "This is because Cross Validation considers all cuts of the data as train and test data and gets the \n",
    "average value, while Hold out only considers one chunk as training and one as testing.\n",
    "\n",
    "Hold out can hence lead to a 'lucky' or 'unlucky' split of the data, resulting in unstable\n",
    "estimators.\n",
    "\n",
    "Cross validaion considers every split in turn and hence is not sensitve to how the data is split,\n",
    "leading to more stable estimators.\n",
    "\n",
    "Cross validation takes longer to run than hold out testing, as for a split of 1/n we train the \n",
    "classifier n times for cross validation, but only once for hold out testing."
   ]
  },
  {
   "cell_type": "markdown",
   "metadata": {},
   "source": [
    "#### Bias"
   ]
  },
  {
   "cell_type": "code",
   "execution_count": 18,
   "metadata": {},
   "outputs": [
    {
     "data": {
      "text/html": [
       "<div>\n",
       "<style scoped>\n",
       "    .dataframe tbody tr th:only-of-type {\n",
       "        vertical-align: middle;\n",
       "    }\n",
       "\n",
       "    .dataframe tbody tr th {\n",
       "        vertical-align: top;\n",
       "    }\n",
       "\n",
       "    .dataframe thead th {\n",
       "        text-align: right;\n",
       "    }\n",
       "</style>\n",
       "<table border=\"1\" class=\"dataframe\">\n",
       "  <thead>\n",
       "    <tr style=\"text-align: right;\">\n",
       "      <th></th>\n",
       "      <th>KNeighborsClassifier</th>\n",
       "      <th>GradientBoostingClassifier</th>\n",
       "      <th>DecisionTreeClassifier</th>\n",
       "      <th>XGBClassifier</th>\n",
       "      <th>LogisticRegression</th>\n",
       "      <th>SVC</th>\n",
       "      <th>GaussianNB</th>\n",
       "    </tr>\n",
       "  </thead>\n",
       "  <tbody>\n",
       "    <tr>\n",
       "      <th>Mean</th>\n",
       "      <td>1.54969</td>\n",
       "      <td>1.47708</td>\n",
       "      <td>1.40664</td>\n",
       "      <td>1.3717</td>\n",
       "      <td>1.17541</td>\n",
       "      <td>0.832843</td>\n",
       "      <td>0.727243</td>\n",
       "    </tr>\n",
       "    <tr>\n",
       "      <th>St Dev</th>\n",
       "      <td>0.150929</td>\n",
       "      <td>0.13644</td>\n",
       "      <td>0.165276</td>\n",
       "      <td>0.111193</td>\n",
       "      <td>0.111855</td>\n",
       "      <td>0.0758908</td>\n",
       "      <td>0.0737944</td>\n",
       "    </tr>\n",
       "  </tbody>\n",
       "</table>\n",
       "</div>"
      ],
      "text/plain": [
       "       KNeighborsClassifier GradientBoostingClassifier DecisionTreeClassifier  \\\n",
       "Mean                1.54969                    1.47708                1.40664   \n",
       "St Dev             0.150929                    0.13644               0.165276   \n",
       "\n",
       "       XGBClassifier LogisticRegression        SVC GaussianNB  \n",
       "Mean          1.3717            1.17541   0.832843   0.727243  \n",
       "St Dev      0.111193           0.111855  0.0758908  0.0737944  "
      ]
     },
     "execution_count": 18,
     "metadata": {},
     "output_type": "execute_result"
    }
   ],
   "source": [
    "cross_val_bias_smote = simulate_cross_val(100,models,X,y,smote = True,metric = 'bias')\n",
    "cross_val_bias_smote"
   ]
  },
  {
   "cell_type": "code",
   "execution_count": 19,
   "metadata": {},
   "outputs": [
    {
     "data": {
      "text/plain": [
       "Mean      0.113950\n",
       "St Dev   -0.211466\n",
       "dtype: float64"
      ]
     },
     "execution_count": 19,
     "metadata": {},
     "output_type": "execute_result"
    }
   ],
   "source": [
    "np.mean(cross_val_bias_smote - bias_smote,axis = 1)"
   ]
  },
  {
   "cell_type": "markdown",
   "metadata": {},
   "source": [
    "We can see that using cross validation significantly increases the stability of the bias calculations.\n",
    "\n",
    "The average difference in standard deviation for the classifier bias is ~20%, with the \n",
    "cross val st deviations being the lower. \n",
    "\n",
    "Again we see that cross validaton is better than hold out testing if we value model stability \n",
    "over computation speed.\n",
    "\n"
   ]
  },
  {
   "cell_type": "markdown",
   "metadata": {},
   "source": [
    "## In preparing your submission, you should focus on explaining discrepancies between train and test performance rather than maximising performance"
   ]
  },
  {
   "cell_type": "markdown",
   "metadata": {},
   "source": [
    "### 2. Feature Selection\n",
    "\n",
    "The objective of this exercise is to assess the impact of feature selection on training and test datasets. Two datasets accompany this assignment, heart-train.csv and heart-test.csv .\n",
    "\n",
    "\n",
    "The idea is to identify a good feature subset using the training dataset and test this subset on the test data. In preparing your submission, you should focus on explaining discrepancies between train and test performance rather than maximising performance."
   ]
  },
  {
   "cell_type": "code",
   "execution_count": 20,
   "metadata": {},
   "outputs": [],
   "source": [
    "import numpy as np\n",
    "import pandas as pd\n",
    "\n",
    "heart_train = pd.read_csv('heart-train.csv')\n",
    "heart_test = pd.read_csv('heart-test.csv')\n",
    "\n",
    "y_train = heart_train.pop('DEATH_EVENT')\n",
    "X_train = heart_train.values\n",
    "\n",
    "y_test = heart_test.pop('DEATH_EVENT')\n",
    "X_test = heart_test.values"
   ]
  },
  {
   "cell_type": "code",
   "execution_count": 21,
   "metadata": {},
   "outputs": [
    {
     "data": {
      "image/png": "[encoded data removed]",
      "text/plain": [
       "<Figure size 720x360 with 1 Axes>"
      ]
     },
     "metadata": {},
     "output_type": "display_data"
    }
   ],
   "source": [
    "import matplotlib.style\n",
    "import matplotlib as mpl\n",
    "import seaborn as sns\n",
    "import matplotlib.pyplot as plt\n",
    "\n",
    "mpl.style.use('seaborn-pastel')\n",
    "\n",
    "fig , (ax1)  = plt.subplots(1,figsize = (10,5))\n",
    "\n",
    "ax1.pie(y_train.value_counts(),\n",
    "        labels = ['Survived','Died'],\n",
    "        autopct = '%1.0f%%' ,\n",
    "        shadow = True ,\n",
    "        startangle = 90 )\n",
    "\n",
    "ax1.set_title('% of Patients')\n",
    "\n",
    "plt.savefig('pir.png',edgecolor = 'white',transparent = True)"
   ]
  },
  {
   "cell_type": "markdown",
   "metadata": {},
   "source": [
    "Importing the relevant modules, then calculating the cross val and accuracy scores"
   ]
  },
  {
   "cell_type": "code",
   "execution_count": 22,
   "metadata": {
    "scrolled": true
   },
   "outputs": [
    {
     "name": "stdout",
     "output_type": "stream",
     "text": [
      "Cross Val Accuracy score for train data 0.784\n",
      "Hold out Accuracy score for test data 0.820\n"
     ]
    }
   ],
   "source": [
    "from sklearn.ensemble import GradientBoostingClassifier\n",
    "from sklearn.model_selection import cross_val_score\n",
    "from sklearn.model_selection import KFold\n",
    "from sklearn.metrics import accuracy_score\n",
    "\n",
    "folds = KFold(n_splits = 10, shuffle = True)\n",
    "\n",
    "gb = GradientBoostingClassifier()\n",
    "\n",
    "scores = cross_val_score(gb,X_train,y_train, cv = folds)\n",
    "print('Cross Val Accuracy score for train data {0:.3f}'.format(np.mean(scores)))\n",
    "\n",
    "y_pred = gb.fit(X_train, y_train).predict(X_test)\n",
    "print('Hold out Accuracy score for test data {0:.3f}'.format(accuracy_score(y_test,y_pred)))\n"
   ]
  },
  {
   "cell_type": "markdown",
   "metadata": {},
   "source": [
    "It appears the test data predicts better than the train data.\n",
    "It is possible that this is because there is less noise in the test data."
   ]
  },
  {
   "cell_type": "markdown",
   "metadata": {},
   "source": [
    "Making a pipeline, without feature Selection"
   ]
  },
  {
   "cell_type": "code",
   "execution_count": 23,
   "metadata": {},
   "outputs": [
    {
     "name": "stdout",
     "output_type": "stream",
     "text": [
      "Accuracy score for test data 0.870\n"
     ]
    }
   ],
   "source": [
    "from sklearn.pipeline import Pipeline\n",
    "from sklearn.preprocessing import StandardScaler, MinMaxScaler\n",
    "from sklearn.metrics import classification_report, confusion_matrix\n",
    "from sklearn.metrics import roc_curve, auc\n",
    "\n",
    "gb_pipe = Pipeline(steps = [\n",
    "    ('scaler','passthrough'),\n",
    "    ('classifier',GradientBoostingClassifier())\n",
    "])\n",
    "\n",
    "param_grid = {'scaler':['passthrough',StandardScaler(),MinMaxScaler()],\n",
    "              'classifier__learning_rate':[0.03,0.05,0.07,0.1,0.12],\n",
    "              'classifier__n_estimators':[25,50,100,],\n",
    "              'classifier__max_depth':[1,2,3,5],\n",
    "             }\n",
    "\n",
    "from sklearn.model_selection import GridSearchCV\n",
    "\n",
    "grid_search = GridSearchCV(gb_pipe,param_grid,cv = folds ,verbose = 0,n_jobs = -1)\n",
    "grid_search = grid_search.fit(X_train,y_train)\n",
    "\n",
    "y_pred = grid_search.predict(X_test)\n",
    "print('Accuracy score for test data {0:.3f}'.format(accuracy_score(y_test,y_pred)))"
   ]
  },
  {
   "cell_type": "code",
   "execution_count": 24,
   "metadata": {},
   "outputs": [
    {
     "name": "stdout",
     "output_type": "stream",
     "text": [
      "0.8494736842105264\n"
     ]
    },
    {
     "data": {
      "text/plain": [
       "{'classifier__learning_rate': 0.07,\n",
       " 'classifier__max_depth': 1,\n",
       " 'classifier__n_estimators': 50,\n",
       " 'scaler': 'passthrough'}"
      ]
     },
     "execution_count": 24,
     "metadata": {},
     "output_type": "execute_result"
    }
   ],
   "source": [
    "print(grid_search.best_score_)\n",
    "grid_search.best_params_"
   ]
  },
  {
   "cell_type": "code",
   "execution_count": 25,
   "metadata": {},
   "outputs": [
    {
     "name": "stdout",
     "output_type": "stream",
     "text": [
      "Normalized confusion matrix\n",
      "[[0.94 0.06]\n",
      " [0.28 0.72]]\n"
     ]
    },
    {
     "data": {
      "image/png": "[encoded data removed]",
      "text/plain": [
       "<Figure size 640x480 with 2 Axes>"
      ]
     },
     "metadata": {},
     "output_type": "display_data"
    }
   ],
   "source": [
    "\n",
    "from sklearn.utils.multiclass import unique_labels\n",
    "mpl.style.use('classic')\n",
    "\n",
    "def plot_confusion_matrix(y_true, y_pred, classes,\n",
    "                          normalize=False,\n",
    "                          title=None,\n",
    "                          cmap=plt.cm.Blues):\n",
    "    \"\"\"\n",
    "    This function prints and plots the confusion matrix.\n",
    "    Normalization can be applied by setting `normalize=True`.\n",
    "    \"\"\"\n",
    "    if not title:\n",
    "        if normalize:\n",
    "            title = 'Normalized confusion matrix'\n",
    "        else:\n",
    "            title = 'Confusion matrix, without normalization'\n",
    "\n",
    "    # Compute confusion matrix\n",
    "    cm = confusion_matrix(y_true, y_pred)\n",
    "    # Only use the labels that appear in the data\n",
    "    #classes = classes[unique_labels(y_true, y_pred)]\n",
    "    if normalize:\n",
    "        cm = cm.astype('float') / cm.sum(axis=1)[:, np.newaxis]\n",
    "        print(\"Normalized confusion matrix\")\n",
    "    else:\n",
    "        print('Confusion matrix, without normalization')\n",
    "\n",
    "    print(cm)\n",
    "\n",
    "    fig, ax = plt.subplots()\n",
    "    im = ax.imshow(cm, interpolation='nearest', cmap=cmap)\n",
    "    ax.figure.colorbar(im, ax=ax)\n",
    "    # We want to show all ticks...\n",
    "    ax.set(xticks=np.arange(cm.shape[1]),\n",
    "           yticks=np.arange(cm.shape[0]),\n",
    "           # ... and label them with the respective list entries\n",
    "           xticklabels=classes, yticklabels=classes,\n",
    "           title=title,\n",
    "           ylabel='True label',\n",
    "           xlabel='Predicted label')\n",
    "\n",
    "    # Rotate the tick labels and set their alignment.\n",
    "    plt.setp(ax.get_xticklabels(), rotation=45, ha=\"right\",\n",
    "             rotation_mode=\"anchor\")\n",
    "\n",
    "    # Loop over data dimensions and create text annotations.\n",
    "    fmt = '.2f' if normalize else 'd'\n",
    "    thresh = cm.max() / 2.\n",
    "    for i in range(cm.shape[0]):\n",
    "        for j in range(cm.shape[1]):\n",
    "            ax.text(j, i, format(cm[i, j], fmt),\n",
    "                    ha=\"center\", va=\"center\",\n",
    "                    color=\"white\" if cm[i, j] > thresh else \"black\")\n",
    "    fig.tight_layout()\n",
    "    return ax\n",
    "\n",
    "\n",
    "np.set_printoptions(precision=2)\n",
    "\n",
    "# Plot non-normalized confusion matrix\n",
    "\n",
    "# Plot normalized confusion matrix\n",
    "plot_confusion_matrix(y_test, y_pred, classes=['Survied','Died'], normalize=True,\n",
    "                      title='Normalized Confusion Matrix')\n",
    "\n",
    "plt.show()"
   ]
  },
  {
   "cell_type": "markdown",
   "metadata": {},
   "source": [
    "We see from the confusion matrix a high False negative rate - This means that the model is biased towards the majority class.\n",
    "\n",
    "In order to rectify this, we will use SMOTE to upsample to reduce bias.\n"
   ]
  },
  {
   "cell_type": "code",
   "execution_count": 26,
   "metadata": {
    "scrolled": true
   },
   "outputs": [
    {
     "name": "stdout",
     "output_type": "stream",
     "text": [
      "Accuracy score for test data 0.870\n"
     ]
    }
   ],
   "source": [
    "from imblearn.pipeline import Pipeline\n",
    "from sklearn.preprocessing import StandardScaler, MinMaxScaler\n",
    "from sklearn.metrics import classification_report, confusion_matrix\n",
    "from sklearn.metrics import roc_curve, auc\n",
    "\n",
    "gb_pipe = Pipeline(steps = [\n",
    "    ('sampling', SMOTE(sampling_strategy = 1.0)),\n",
    "    ('classifier',GradientBoostingClassifier())\n",
    "])\n",
    "\n",
    "param_grid = {'classifier__learning_rate':[0.05,0.07,0.1],\n",
    "              'classifier__n_estimators':[75,100,125],\n",
    "              'classifier__max_depth':[1,2,3,5],\n",
    "              'classifier__subsample':[0.6,0.95],\n",
    "             }\n",
    "\n",
    "from sklearn.model_selection import GridSearchCV\n",
    "\n",
    "grid_search = GridSearchCV(gb_pipe,param_grid,cv = folds ,verbose = 0,n_jobs = -1)\n",
    "grid_search = grid_search.fit(X_train,y_train)\n",
    "\n",
    "y_pred = grid_search.predict(X_test)\n",
    "print('Accuracy score for test data {0:.3f}'.format(accuracy_score(y_test,y_pred)))"
   ]
  },
  {
   "cell_type": "code",
   "execution_count": 27,
   "metadata": {
    "scrolled": false
   },
   "outputs": [
    {
     "name": "stdout",
     "output_type": "stream",
     "text": [
      "Normalized confusion matrix\n",
      "[[0.91 0.09]\n",
      " [0.22 0.78]]\n"
     ]
    },
    {
     "data": {
      "image/png": "[encoded data removed]",
      "text/plain": [
       "<Figure size 640x480 with 2 Axes>"
      ]
     },
     "metadata": {},
     "output_type": "display_data"
    }
   ],
   "source": [
    "mpl.style.use('classic')\n",
    "plot_confusion_matrix(y_test, y_pred, classes=['Survied','Died'], normalize=True,\n",
    "                      title='Normalized Confusion Matrix')\n",
    "\n",
    "plt.show()"
   ]
  },
  {
   "cell_type": "markdown",
   "metadata": {},
   "source": [
    "We see an impovement in the Accuracy of the classifier, due to a reduction of false negatives."
   ]
  },
  {
   "cell_type": "code",
   "execution_count": 28,
   "metadata": {},
   "outputs": [
    {
     "name": "stdout",
     "output_type": "stream",
     "text": [
      "0.8444736842105263\n"
     ]
    },
    {
     "data": {
      "text/plain": [
       "{'classifier__learning_rate': 0.07,\n",
       " 'classifier__max_depth': 1,\n",
       " 'classifier__n_estimators': 75,\n",
       " 'classifier__subsample': 0.95}"
      ]
     },
     "execution_count": 28,
     "metadata": {},
     "output_type": "execute_result"
    }
   ],
   "source": [
    "print(grid_search.best_score_)\n",
    "grid_search.best_params_"
   ]
  },
  {
   "cell_type": "code",
   "execution_count": 29,
   "metadata": {},
   "outputs": [],
   "source": [
    "heart_train = pd.read_csv('heart-train.csv')\n",
    "heart_test = pd.read_csv('heart-test.csv')\n",
    "\n",
    "y_train = heart_train.pop('DEATH_EVENT')\n",
    "X_train = heart_train.values\n",
    "\n",
    "y_test = heart_test.pop('DEATH_EVENT')\n",
    "X_test = heart_test.values"
   ]
  },
  {
   "cell_type": "code",
   "execution_count": 30,
   "metadata": {},
   "outputs": [
    {
     "data": {
      "text/html": [
       "<div>\n",
       "<style scoped>\n",
       "    .dataframe tbody tr th:only-of-type {\n",
       "        vertical-align: middle;\n",
       "    }\n",
       "\n",
       "    .dataframe tbody tr th {\n",
       "        vertical-align: top;\n",
       "    }\n",
       "\n",
       "    .dataframe thead th {\n",
       "        text-align: right;\n",
       "    }\n",
       "</style>\n",
       "<table border=\"1\" class=\"dataframe\">\n",
       "  <thead>\n",
       "    <tr style=\"text-align: right;\">\n",
       "      <th></th>\n",
       "      <th>I-Gain</th>\n",
       "    </tr>\n",
       "  </thead>\n",
       "  <tbody>\n",
       "    <tr>\n",
       "      <th>time</th>\n",
       "      <td>0.227639</td>\n",
       "    </tr>\n",
       "    <tr>\n",
       "      <th>ejection_fraction</th>\n",
       "      <td>0.126230</td>\n",
       "    </tr>\n",
       "    <tr>\n",
       "      <th>serum_creatinine</th>\n",
       "      <td>0.092669</td>\n",
       "    </tr>\n",
       "    <tr>\n",
       "      <th>age</th>\n",
       "      <td>0.092031</td>\n",
       "    </tr>\n",
       "    <tr>\n",
       "      <th>sex</th>\n",
       "      <td>0.044166</td>\n",
       "    </tr>\n",
       "    <tr>\n",
       "      <th>serum_sodium</th>\n",
       "      <td>0.041860</td>\n",
       "    </tr>\n",
       "    <tr>\n",
       "      <th>creatinine_phosphokinase</th>\n",
       "      <td>0.015988</td>\n",
       "    </tr>\n",
       "    <tr>\n",
       "      <th>anaemia</th>\n",
       "      <td>0.000000</td>\n",
       "    </tr>\n",
       "    <tr>\n",
       "      <th>diabetes</th>\n",
       "      <td>0.000000</td>\n",
       "    </tr>\n",
       "    <tr>\n",
       "      <th>high_blood_pressure</th>\n",
       "      <td>0.000000</td>\n",
       "    </tr>\n",
       "    <tr>\n",
       "      <th>platelets</th>\n",
       "      <td>0.000000</td>\n",
       "    </tr>\n",
       "    <tr>\n",
       "      <th>smoking</th>\n",
       "      <td>0.000000</td>\n",
       "    </tr>\n",
       "  </tbody>\n",
       "</table>\n",
       "</div>"
      ],
      "text/plain": [
       "                            I-Gain\n",
       "time                      0.227639\n",
       "ejection_fraction         0.126230\n",
       "serum_creatinine          0.092669\n",
       "age                       0.092031\n",
       "sex                       0.044166\n",
       "serum_sodium              0.041860\n",
       "creatinine_phosphokinase  0.015988\n",
       "anaemia                   0.000000\n",
       "diabetes                  0.000000\n",
       "high_blood_pressure       0.000000\n",
       "platelets                 0.000000\n",
       "smoking                   0.000000"
      ]
     },
     "execution_count": 30,
     "metadata": {},
     "output_type": "execute_result"
    }
   ],
   "source": [
    "from sklearn.feature_selection import SelectKBest, mutual_info_classif\n",
    "rs = 1\n",
    "mi = dict()\n",
    "#sm = SMOTE(sampling_strategy = 1.0)\n",
    "#X_train, y_train = sm.fit_sample(X_train,y_train)\n",
    "\n",
    "i_scores = mutual_info_classif(X_train,y_train,random_state = rs)\n",
    "\n",
    "for i,j in zip(heart_train.columns,i_scores):\n",
    "    mi[i] = j\n",
    "    \n",
    "df = pd.DataFrame.from_dict(mi,orient = 'index',columns = ['I-Gain'])\n",
    "df.sort_values('I-Gain',ascending = False,inplace = True)\n",
    "\n",
    "df"
   ]
  },
  {
   "cell_type": "markdown",
   "metadata": {},
   "source": [
    "The information gain criteria shows us that time is gives the most information gain and anaemia,plaelets, sex and smoking give us the least"
   ]
  },
  {
   "cell_type": "code",
   "execution_count": 31,
   "metadata": {},
   "outputs": [
    {
     "data": {
      "image/png": "[encoded data removed]",
      "text/plain": [
       "<Figure size 432x288 with 1 Axes>"
      ]
     },
     "metadata": {
      "needs_background": "light"
     },
     "output_type": "display_data"
    }
   ],
   "source": [
    "\n",
    "%matplotlib inline\n",
    "\n",
    "n = len(df.index)\n",
    "rr = range(1,n)\n",
    "fig, ax = plt.subplots()\n",
    "ax.bar(df.index, df[\"I-Gain\"], label='I-Gain',width=.35)\n",
    "ax.set_xticklabels(list(df.index), rotation = 90)\n",
    "ax.set_xlabel('Features')\n",
    "ax.set_ylabel('I-Gain')\n",
    "ax.legend()\n",
    "\n",
    "plt.show()"
   ]
  },
  {
   "cell_type": "markdown",
   "metadata": {},
   "source": [
    "If we base the feature selection on Information Gain, we see 'time' has the highest value.\n",
    "\n",
    "This tells us that time is an important feature to include in a feature subset that will generalize\n",
    "well for this task.\n",
    "\n",
    "After time, there is a big drop off in information gain for the other variables,\n",
    "and there is another big drop after the third feature(serum creatinine).\n",
    "\n",
    "After age, the information gain from the remaining features is very low. \n",
    "They are unlikley to be worth including as they are likely to just introduce noise into the \n",
    "classifier, which would reduce accuracy. \n",
    "\n",
    "The last 3 features provide 0 information gain and therefore are not expected to be useful for\n",
    "a feature subset that generalizes well."
   ]
  },
  {
   "cell_type": "markdown",
   "metadata": {},
   "source": [
    "Select k best features"
   ]
  },
  {
   "cell_type": "code",
   "execution_count": 32,
   "metadata": {},
   "outputs": [
    {
     "data": {
      "text/plain": [
       "{'learning_rate': 0.07, 'max_depth': 1, 'n_estimators': 75, 'subsample': 0.95}"
      ]
     },
     "execution_count": 32,
     "metadata": {},
     "output_type": "execute_result"
    }
   ],
   "source": [
    "gs_params = grid_search.best_params_\n",
    "\n",
    "kwargs = {}\n",
    "for key in gs_params.keys():\n",
    "    if 'classifier__' in key:\n",
    "\n",
    "        kwargs[key.replace('classifier__','')] = gs_params[key]\n",
    "        \n",
    "# Change these paramters manually to see what the effect was on the accuracy of the model\n",
    "        \n",
    "#kwargs['n_estimators'] = 100\n",
    "#kwargs['learning_rate'] = 0.07\n",
    "#kwargs['max_depth'] = 2\n",
    "kwargs"
   ]
  },
  {
   "cell_type": "code",
   "execution_count": 33,
   "metadata": {},
   "outputs": [],
   "source": [
    "def mic(X,y):\n",
    "    return mutual_info_classif(X,y,random_state = rs)"
   ]
  },
  {
   "cell_type": "code",
   "execution_count": 34,
   "metadata": {},
   "outputs": [
    {
     "data": {
      "image/png": "[encoded data removed]",
      "text/plain": [
       "<Figure size 576x396 with 2 Axes>"
      ]
     },
     "metadata": {},
     "output_type": "display_data"
    }
   ],
   "source": [
    "gb = GradientBoostingClassifier(**kwargs)\n",
    "\n",
    "folds = KFold(n_splits = 10, shuffle = True)\n",
    "train_acc_scores = []\n",
    "test_acc_scores = []\n",
    "\n",
    "for kk in range(1,X_train.shape[1]+1):\n",
    "    transformer = SelectKBest(mic,k=kk).fit(X_train,y_train)\n",
    "    X_train_trans = transformer.transform(X_train)\n",
    "    X_test_trans = transformer.transform(X_test)\n",
    "    \n",
    "    sm = SMOTE(sampling_strategy = 1.0 )\n",
    "    X_train_sm, y_train_sm = sm.fit_sample(X_train_trans,y_train)\n",
    "\n",
    "    model = gb.fit(X_train_sm,y_train_sm)\n",
    "    y_pred = model.predict(X_test_trans)\n",
    "    \n",
    "    y_pred_train = model.predict(X_train_sm)\n",
    "    train_acc = accuracy_score(y_train_sm,y_pred_train)\n",
    "    #train_acc = np.mean(cross_val_score(gb,X_train_trans,y_train,cv = folds,n_jobs = -1))\n",
    "    train_acc_scores.append(train_acc)\n",
    "    test_acc_scores.append(accuracy_score(y_test,y_pred))\n",
    "\n",
    "df['Train Accuracy'] = train_acc_scores\n",
    "df['Test Accuracy'] = test_acc_scores\n",
    "  \n",
    "\n",
    "import matplotlib.pyplot as plt\n",
    "from matplotlib.font_manager import FontProperties\n",
    "mpl.style.use('seaborn')\n",
    "\n",
    "n = len(df.index)\n",
    "rr = range(1,n)\n",
    "fig, ax = plt.subplots()\n",
    "\n",
    "ax2 = ax.twinx()\n",
    "ax.bar(df.index, df[\"I-Gain\"], label='I-Gain',width=.35)\n",
    "\n",
    "ax2.plot(df.index, df[\"Train Accuracy\"], color='red', label='Train Accuracy')\n",
    "ax2.plot(df.index, df[\"Test Accuracy\"], color='green', label='Test Accuracy')\n",
    "\n",
    "ax.set_xticklabels(list(df.index), rotation = 90)\n",
    "ax.set_xlabel('Features')\n",
    "ax.set_ylabel('I-Gain')\n",
    "ax2.set_ylabel('Accuracy')\n",
    "fontP = FontProperties()\n",
    "fontP.set_size('smaller')\n",
    "ax.legend( bbox_to_anchor = (1.05,1),loc = 'upper left',prop = fontP)\n",
    "ax2.legend( bbox_to_anchor = (1.05,1),loc = 'lower left',prop = fontP)\n",
    "ax2.set_ylim((0.75,1))\n",
    "\n",
    "plt.show()"
   ]
  },
  {
   "cell_type": "markdown",
   "metadata": {},
   "source": [
    "The code above finds the best parameters for the gradient boosting classifer within\n",
    "the param_grid values, for each value of k.\n",
    "\n",
    "The train and test accuracy are then calculated for each k and then added to the dataframe df."
   ]
  },
  {
   "cell_type": "markdown",
   "metadata": {},
   "source": [
    "The above plot shows the test(green) and train(red) accuracy for each of the feature subsets.\n",
    "\n",
    "A feature subset of 'time', 'ejection_fraction' and 'serum_creatinine' appears to generalize\n",
    "very well, giving a test accuracy score of ~89% using only 3 features, which is higher than the\n",
    "train set accuracy.\n",
    "\n",
    "If he training accuracy was higher than the testing accuracy, this would be an example of overfitting. This would mean the model has not been generalized well.\n",
    "\n",
    "The train accuracy is considerabley higher than the testing. This could be due to the testing data containing 'clean' data with only small amounts of noise.\n",
    "\n",
    "Features with lower information gain contain little useful information for building a classifier.\n",
    "We can see from the bar chart above that anaemia, diabetes, high blood pressure, platelets and smoking provide no additional information when the features with higher information gain are included. \n",
    "\n",
    "We see that test data accuracy is maximized at 2 features, time and ejection_fraction,\n",
    "but for train data the accuracy improves until 5 features then drops off.\n",
    "This descrepancy is due to overfitting, caused by the additional features. When the model is too close of a fit to trining data, it is not useful for predicting unseen data. The small training dataset of 200 features contributes to this overfitting issue. Adding more rows of data would help rectify this.\n",
    "\n",
    "##### Stability, Consistency\n",
    "Running the above code gives quite different train/test accuracy measures. This is due to the stochastic nature of the algorithms such as the mutual info classifier and the Gradient boosting classifier.\n",
    "\n",
    "Setting the mutual_info_classifer random state to a fixed value was important for model stability.\n",
    "The features in the train data behaved in such a way to between runs, some went from having relatively high information gain to none. This impacted the stability of the model as between iterations of k this what was considered an imporant variable could change and would this would impact model stability.\n",
    "\n",
    "The model results are also very sensitive to the parameters of the gradient boosting classifer.\n",
    "Increasing n_estimators increases training data accuracy and reduces test accuracy. This is because it causes overfitting. \n",
    "\n",
    "max_depth controls the depth of the decision trees in the model. Setting this to higher than 1 increased train accuracy and reduced test accuracy.\n",
    "\n",
    "Setting learning rate to more than 0.7 had the effect of making very strong overfitting. \n",
    "\n",
    "The model stability was greatly influnce by max_depth, increasing this more than 1 dramatically increased train accuracy and reduced test accuracy.\n",
    "\n",
    "There are other hyper paamters in this model that also would likely have an effect on the train and test accuracy but I do not go into them in this report."
   ]
  },
  {
   "cell_type": "code",
   "execution_count": 46,
   "metadata": {},
   "outputs": [],
   "source": [
    "num_sims = 1000\n",
    "acc_scores_fs = []\n",
    "for i in range(num_sims):\n",
    "\n",
    "    kk = 3\n",
    "    transformer = SelectKBest(mic,k=kk).fit(X_train,y_train)\n",
    "    X_train_trans = transformer.transform(X_train)\n",
    "    X_test_trans = transformer.transform(X_test)\n",
    "\n",
    "    sm = SMOTE(sampling_strategy = 1.0 )\n",
    "    X_train_sm, y_train_sm = sm.fit_sample(X_train_trans,y_train)\n",
    "\n",
    "    model = gb.fit(X_train_sm,y_train_sm)\n",
    "    y_pred = model.predict(X_test_trans)\n",
    "\n",
    "    acc_scores_fs.append(accuracy_score(y_test,y_pred)) # testing the accruacy of the chosen feature subset"
   ]
  },
  {
   "cell_type": "code",
   "execution_count": 51,
   "metadata": {},
   "outputs": [
    {
     "name": "stdout",
     "output_type": "stream",
     "text": [
      "Mean Test Accuracy 0.86\n",
      "Test Accuracy St Dev 0.01\n"
     ]
    }
   ],
   "source": [
    "print('Mean Test Accuracy {0:.2f}'.format(np.mean(acc_scores_fs)))\n",
    "print('Test Accuracy St Dev {0:.2f}'.format(np.std(acc_scores_fs)))\n",
    "\n"
   ]
  },
  {
   "cell_type": "markdown",
   "metadata": {},
   "source": [
    "We see from the standard deviation of 1% and the kernel density plot that the model is relatively \n",
    "stable in its accuracy.\n",
    "\n",
    "\n"
   ]
  },
  {
   "cell_type": "code",
   "execution_count": 37,
   "metadata": {},
   "outputs": [
    {
     "data": {
      "image/png": "[encoded data removed]",
      "text/plain": [
       "<Figure size 576x396 with 1 Axes>"
      ]
     },
     "metadata": {},
     "output_type": "display_data"
    }
   ],
   "source": [
    "from sklearn.metrics import roc_curve, auc\n",
    "\n",
    "y_score = model.predict_proba(X_test_trans) # Propabilities for the ROC Curve\n",
    "fpr, tpr, t = roc_curve(y_test, y_score[:,1])\n",
    "lw = 2\n",
    "plt.plot(fpr, tpr,\n",
    "         lw=lw, label= 'ROC of(area = %0.2f)' % auc(fpr, tpr))\n",
    "\n",
    "\n",
    "plt.plot([0, 1], [0, 1], lw=lw, linestyle='--')\n",
    "plt.xlim([0.0, 1.0])\n",
    "plt.ylim([0.0, 1.0])\n",
    "\n",
    "plt.xlabel('False Positive Rate')\n",
    "plt.ylabel('True Positive Rate')\n",
    "plt.title('ROC Analysis for Heart data')\n",
    "plt.legend(loc=\"lower right\")\n",
    "plt.show()\n",
    "        "
   ]
  },
  {
   "cell_type": "markdown",
   "metadata": {},
   "source": [
    "Evaluating the ROC Curve of for the test data shows the model provides a good fit for the data. \n",
    "The optimal value of 1 for the ROC area under the curve is not too far from the value of 0.9 obtained.\n",
    "\n"
   ]
  },
  {
   "cell_type": "markdown",
   "metadata": {},
   "source": [
    "Conclusion:\n",
    "The Gradient Boosting Classifer provides a high level of accuracy when coupeld with a feature subset\n",
    "selection strategy based on information gain.\n",
    "\n",
    "A possible way of improving this model could be by using a wrapper strategy instead of information gain or using a different criteria\n",
    "than information gain such as chi squared.\n",
    "\n"
   ]
  }
 ],
 "metadata": {
  "kernelspec": {
   "display_name": "Python 3",
   "language": "python",
   "name": "python3"
  },
  "language_info": {
   "codemirror_mode": {
    "name": "ipython",
    "version": 3
   },
   "file_extension": ".py",
   "mimetype": "text/x-python",
   "name": "python",
   "nbconvert_exporter": "python",
   "pygments_lexer": "ipython3",
   "version": "3.8.3"
  }
 },
 "nbformat": 4,
 "nbformat_minor": 4
}
